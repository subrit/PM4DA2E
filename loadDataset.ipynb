{
 "cells": [
  {
   "cell_type": "code",
   "execution_count": 1,
   "id": "74044fd5",
   "metadata": {},
   "outputs": [],
   "source": [
    "from transformers import BertTokenizer, BertForSequenceClassification, Trainer, TrainingArguments\n",
    "from datasets import load_dataset, DatasetDict\n",
    "import torch"
   ]
  },
  {
   "cell_type": "code",
   "execution_count": 21,
   "id": "4b8b4cfb",
   "metadata": {},
   "outputs": [
    {
     "name": "stderr",
     "output_type": "stream",
     "text": [
      "Using the latest cached version of the dataset since xnli couldn't be found on the Hugging Face Hub\n",
      "Found the latest cached dataset configuration 'en' at C:\\Users\\Me\\.cache\\huggingface\\datasets\\xnli\\en\\0.0.0\\b8dd5d7af51114dbda02c0e3f6133f332186418e (last modified on Thu Jan 16 11:14:05 2025).\n",
      "Using the latest cached version of the dataset since xnli couldn't be found on the Hugging Face Hub\n",
      "Found the latest cached dataset configuration 'fr' at C:\\Users\\Me\\.cache\\huggingface\\datasets\\xnli\\fr\\0.0.0\\b8dd5d7af51114dbda02c0e3f6133f332186418e (last modified on Thu Jan 16 11:24:19 2025).\n",
      "Using the latest cached version of the dataset since xnli couldn't be found on the Hugging Face Hub\n",
      "Found the latest cached dataset configuration 'es' at C:\\Users\\Me\\.cache\\huggingface\\datasets\\xnli\\es\\0.0.0\\b8dd5d7af51114dbda02c0e3f6133f332186418e (last modified on Thu Jan 16 17:44:52 2025).\n",
      "Using the latest cached version of the dataset since xnli couldn't be found on the Hugging Face Hub\n",
      "Found the latest cached dataset configuration 'hi' at C:\\Users\\Me\\.cache\\huggingface\\datasets\\xnli\\hi\\0.0.0\\b8dd5d7af51114dbda02c0e3f6133f332186418e (last modified on Thu Jan 16 12:22:40 2025).\n",
      "Using the latest cached version of the dataset since xnli couldn't be found on the Hugging Face Hub\n",
      "Found the latest cached dataset configuration 'de' at C:\\Users\\Me\\.cache\\huggingface\\datasets\\xnli\\de\\0.0.0\\b8dd5d7af51114dbda02c0e3f6133f332186418e (last modified on Thu Jan 16 17:37:12 2025).\n"
     ]
    }
   ],
   "source": [
    "#XNLI dataset\n",
    "\n",
    "#english\n",
    "dataset_en = load_dataset('xnli', 'en')\n",
    "tokenizer_en = BertTokenizer.from_pretrained('bert-base-multilingual-cased')\n",
    "\n",
    "#french\n",
    "dataset_fr = load_dataset('xnli', 'fr')\n",
    "tokenizer_fr = BertTokenizer.from_pretrained('bert-base-multilingual-cased')\n",
    "\n",
    "#Spanish\n",
    "dataset_es = load_dataset('xnli', 'es')\n",
    "tokenizer_es = BertTokenizer.from_pretrained('bert-base-multilingual-cased')\n",
    "\n",
    "#hindi\n",
    "dataset_hi = load_dataset('xnli', 'hi')\n",
    "tokenizer_hi = BertTokenizer.from_pretrained('bert-base-multilingual-cased')\n",
    "\n",
    "#german\n",
    "dataset_de = load_dataset('xnli', 'de')\n",
    "tokenizer_de = BertTokenizer.from_pretrained('bert-base-multilingual-cased')\n",
    "\n",
    "\n"
   ]
  },
  {
   "cell_type": "code",
   "execution_count": 28,
   "id": "cb180723",
   "metadata": {},
   "outputs": [
    {
     "data": {
      "text/plain": [
       "[DatasetDict({\n",
       "     train: Dataset({\n",
       "         features: ['premise', 'hypothesis', 'label'],\n",
       "         num_rows: 392702\n",
       "     })\n",
       "     test: Dataset({\n",
       "         features: ['premise', 'hypothesis', 'label'],\n",
       "         num_rows: 5010\n",
       "     })\n",
       "     validation: Dataset({\n",
       "         features: ['premise', 'hypothesis', 'label'],\n",
       "         num_rows: 2490\n",
       "     })\n",
       " }),\n",
       " DatasetDict({\n",
       "     train: Dataset({\n",
       "         features: ['premise', 'hypothesis', 'label'],\n",
       "         num_rows: 392702\n",
       "     })\n",
       "     test: Dataset({\n",
       "         features: ['premise', 'hypothesis', 'label'],\n",
       "         num_rows: 5010\n",
       "     })\n",
       "     validation: Dataset({\n",
       "         features: ['premise', 'hypothesis', 'label'],\n",
       "         num_rows: 2490\n",
       "     })\n",
       " }),\n",
       " DatasetDict({\n",
       "     train: Dataset({\n",
       "         features: ['premise', 'hypothesis', 'label'],\n",
       "         num_rows: 392702\n",
       "     })\n",
       "     test: Dataset({\n",
       "         features: ['premise', 'hypothesis', 'label'],\n",
       "         num_rows: 5010\n",
       "     })\n",
       "     validation: Dataset({\n",
       "         features: ['premise', 'hypothesis', 'label'],\n",
       "         num_rows: 2490\n",
       "     })\n",
       " }),\n",
       " DatasetDict({\n",
       "     train: Dataset({\n",
       "         features: ['premise', 'hypothesis', 'label'],\n",
       "         num_rows: 392702\n",
       "     })\n",
       "     test: Dataset({\n",
       "         features: ['premise', 'hypothesis', 'label'],\n",
       "         num_rows: 5010\n",
       "     })\n",
       "     validation: Dataset({\n",
       "         features: ['premise', 'hypothesis', 'label'],\n",
       "         num_rows: 2490\n",
       "     })\n",
       " }),\n",
       " DatasetDict({\n",
       "     train: Dataset({\n",
       "         features: ['premise', 'hypothesis', 'label'],\n",
       "         num_rows: 392702\n",
       "     })\n",
       "     test: Dataset({\n",
       "         features: ['premise', 'hypothesis', 'label'],\n",
       "         num_rows: 5010\n",
       "     })\n",
       "     validation: Dataset({\n",
       "         features: ['premise', 'hypothesis', 'label'],\n",
       "         num_rows: 2490\n",
       "     })\n",
       " })]"
      ]
     },
     "execution_count": 28,
     "metadata": {},
     "output_type": "execute_result"
    }
   ],
   "source": [
    "\n",
    "dataset_all = []\n",
    "dataset_all.append(dataset_en)\n",
    "dataset_all.append(dataset_fr)\n",
    "dataset_all.append(dataset_es)\n",
    "dataset_all.append(dataset_hi)\n",
    "dataset_all.append(dataset_de)\n",
    "tokenizer_all = BertTokenizer.from_pretrained('bert-base-multilingual-cased')\n",
    "dataset_all\n"
   ]
  },
  {
   "cell_type": "code",
   "execution_count": null,
   "id": "18a10cb4",
   "metadata": {},
   "outputs": [],
   "source": []
  },
  {
   "cell_type": "code",
   "execution_count": null,
   "id": "5117be90",
   "metadata": {},
   "outputs": [],
   "source": []
  }
 ],
 "metadata": {
  "kernelspec": {
   "display_name": "paper2_v2",
   "language": "python",
   "name": "python3"
  },
  "language_info": {
   "codemirror_mode": {
    "name": "ipython",
    "version": 3
   },
   "file_extension": ".py",
   "mimetype": "text/x-python",
   "name": "python",
   "nbconvert_exporter": "python",
   "pygments_lexer": "ipython3",
   "version": "3.10.16"
  }
 },
 "nbformat": 4,
 "nbformat_minor": 5
}
